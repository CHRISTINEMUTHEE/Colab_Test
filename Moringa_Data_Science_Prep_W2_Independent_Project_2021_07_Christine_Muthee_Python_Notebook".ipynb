{
  "nbformat": 4,
  "nbformat_minor": 0,
  "metadata": {
    "colab": {
      "name": "Moringa_Data_Science_Prep_W2_Independent_Project_2021_07_Christine_Muthee_Python_Notebook\"",
      "provenance": [],
      "collapsed_sections": [],
      "authorship_tag": "ABX9TyOcm/ByuEzqYB9b0O1w1NZi",
      "include_colab_link": true
    },
    "kernelspec": {
      "name": "python3",
      "display_name": "Python 3"
    },
    "language_info": {
      "name": "python"
    }
  },
  "cells": [
    {
      "cell_type": "markdown",
      "metadata": {
        "id": "view-in-github",
        "colab_type": "text"
      },
      "source": [
        "<a href=\"https://colab.research.google.com/github/CHRISTINEMUTHEE/Colab_Test/blob/main/Moringa_Data_Science_Prep_W2_Independent_Project_2021_07_Christine_Muthee_Python_Notebook%22.ipynb\" target=\"_parent\"><img src=\"https://colab.research.google.com/assets/colab-badge.svg\" alt=\"Open In Colab\"/></a>"
      ]
    },
    {
      "cell_type": "markdown",
      "metadata": {
        "id": "RhKGAO6THEWE"
      },
      "source": [
        "\n",
        "Challenge 1.\n"
      ]
    },
    {
      "cell_type": "code",
      "metadata": {
        "id": "tiZQxtJfE-VK"
      },
      "source": [
        "#You will write python code that performs the following procedures\n",
        "\n",
        "#Delete a contact from the dictionary when the user specifies the its key \n",
        "#Print out the first 2 contacts. \n",
        "#Display the total no. of contacts left in the dictionary.\n",
        "#Add 2 new contacts in the dictionary. \n",
        "#Print out all the contacts.\n",
        "\n",
        "\n"
      ],
      "execution_count": null,
      "outputs": []
    },
    {
      "cell_type": "markdown",
      "metadata": {
        "id": "DtAwOpUuJ0Nu"
      },
      "source": [
        "Solution 1\n"
      ]
    },
    {
      "cell_type": "code",
      "metadata": {
        "colab": {
          "base_uri": "https://localhost:8080/"
        },
        "id": "iq_33BleHjII",
        "outputId": "bb236a22-c233-434b-9e69-a7c29c2da0f5"
      },
      "source": [
        "contact_book = {'Parul' : 'parul@moringa.org',\n",
        "\n",
        "        'Thomas' : 'thomas@moringa.org',\n",
        "\n",
        "        'Ashley' : 'ashley@moringa.org',\n",
        "\n",
        "        'Kellen' : 'kellen@moringa.org',\n",
        "\n",
        "        'June' : 'june@moringa.org',\n",
        "\n",
        "        'Joseph' : 'joe@moringa.org',\n",
        "\n",
        "        'Lillian' : 'lillian@moringa.org',\n",
        "\n",
        "        'Arnold' : 'arnold@moringa.org' \n",
        "}\n",
        "#Delete a contact from the dictionary when the user specifies the its key \n",
        "\n",
        "#This line deletes the contact from the key Arnold\n",
        "contact_book.pop(\"Arnold\")\n",
        "#Prints the updated version of the dictionary\n",
        "print(contact_book)"
      ],
      "execution_count": null,
      "outputs": [
        {
          "output_type": "stream",
          "text": [
            "{'Parul': 'parul@moringa.org', 'Thomas': 'thomas@moringa.org', 'Ashley': 'ashley@moringa.org', 'Kellen': 'kellen@moringa.org', 'June': 'june@moringa.org', 'Joseph': 'joe@moringa.org', 'Lillian': 'lillian@moringa.org'}\n"
          ],
          "name": "stdout"
        }
      ]
    },
    {
      "cell_type": "markdown",
      "metadata": {
        "id": "lvBPaveBJ4I7"
      },
      "source": [
        "Solution 2"
      ]
    },
    {
      "cell_type": "code",
      "metadata": {
        "colab": {
          "base_uri": "https://localhost:8080/"
        },
        "id": "ZTmnC3kuJ6Mm",
        "outputId": "88d084f7-cc99-4d67-e1a8-03bf6bbaca67"
      },
      "source": [
        "#Print out the first 2 contacts. \n",
        "\n",
        "#Asigning the contact book new variables\n",
        "new_contact_book= contact_book.get(\"Parul\")\n",
        "new_contact_book_1=contact_book[\"Thomas\"]\n",
        "#This prints out the new variables\n",
        "print(new_contact_book,new_contact_book_1)"
      ],
      "execution_count": null,
      "outputs": [
        {
          "output_type": "stream",
          "text": [
            "parul@moringa.org thomas@moringa.org\n"
          ],
          "name": "stdout"
        }
      ]
    },
    {
      "cell_type": "markdown",
      "metadata": {
        "id": "nrFAeRWfLApk"
      },
      "source": [
        "Solution 3\n"
      ]
    },
    {
      "cell_type": "code",
      "metadata": {
        "colab": {
          "base_uri": "https://localhost:8080/"
        },
        "id": "J6lKMKqILDhk",
        "outputId": "09653327-4b16-49f5-8ee3-17a646051717"
      },
      "source": [
        "#Display's the total no. of contacts left in the dictionary.\n",
        "print(len(contact_book))"
      ],
      "execution_count": null,
      "outputs": [
        {
          "output_type": "stream",
          "text": [
            "7\n"
          ],
          "name": "stdout"
        }
      ]
    },
    {
      "cell_type": "markdown",
      "metadata": {
        "id": "6NT7aw5sLT6P"
      },
      "source": [
        "Solution 4"
      ]
    },
    {
      "cell_type": "code",
      "metadata": {
        "colab": {
          "base_uri": "https://localhost:8080/"
        },
        "id": "pfT61o7oLWR3",
        "outputId": "229f8e91-c821-4cc9-b6c6-dcbeeae863e0"
      },
      "source": [
        "#Adding 2 new contacts in the dictionary.\n",
        "contact_book['Christine']=\"christine@moringa.org\"\n",
        "contact_book['Griffin']=\"griffin@moringa.org\"\n",
        "#Displaying the updated contact book\n",
        "print(contact_book)\n"
      ],
      "execution_count": null,
      "outputs": [
        {
          "output_type": "stream",
          "text": [
            "{'Parul': 'parul@moringa.org', 'Thomas': 'thomas@moringa.org', 'Ashley': 'ashley@moringa.org', 'Kellen': 'kellen@moringa.org', 'June': 'june@moringa.org', 'Joseph': 'joe@moringa.org', 'Lillian': 'lillian@moringa.org', 'Christine': 'christine@moringa.org', 'Griffin': 'griffin@moringa.org'}\n"
          ],
          "name": "stdout"
        }
      ]
    },
    {
      "cell_type": "code",
      "metadata": {
        "id": "bF7ucqYkMklV"
      },
      "source": [
        "Solution 5"
      ],
      "execution_count": null,
      "outputs": []
    },
    {
      "cell_type": "code",
      "metadata": {
        "colab": {
          "base_uri": "https://localhost:8080/"
        },
        "id": "AsYRUXQVMnow",
        "outputId": "c5615491-99c8-41c9-b940-172cf681a126"
      },
      "source": [
        "#Printing out all the contacts.\n",
        "print(contact_book)"
      ],
      "execution_count": null,
      "outputs": [
        {
          "output_type": "stream",
          "text": [
            "{'Parul': 'parul@moringa.org', 'Thomas': 'thomas@moringa.org', 'Ashley': 'ashley@moringa.org', 'Kellen': 'kellen@moringa.org', 'June': 'june@moringa.org', 'Joseph': 'joe@moringa.org', 'Lillian': 'lillian@moringa.org', 'Christine': 'christine@moringa.org', 'Griffin': 'griffin@moringa.org'}\n"
          ],
          "name": "stdout"
        }
      ]
    }
  ]
}